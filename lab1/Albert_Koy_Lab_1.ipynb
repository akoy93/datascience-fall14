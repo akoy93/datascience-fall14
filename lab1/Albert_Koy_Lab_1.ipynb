{
 "metadata": {
  "name": "",
  "signature": "sha256:ab3edd5a12653d3355cd12a6210633c6bcaf4968bb3c0495cf02a020bf86a89e"
 },
 "nbformat": 3,
 "nbformat_minor": 0,
 "worksheets": [
  {
   "cells": [
    {
     "cell_type": "code",
     "collapsed": false,
     "input": [
      "%pylab inline\n",
      "\n",
      "import numpy as np\n",
      "import matplotlib.pyplot as plt"
     ],
     "language": "python",
     "metadata": {},
     "outputs": [
      {
       "output_type": "stream",
       "stream": "stdout",
       "text": [
        "Populating the interactive namespace from numpy and matplotlib\n"
       ]
      }
     ],
     "prompt_number": 2
    },
    {
     "cell_type": "code",
     "collapsed": false,
     "input": [
      "# Exercise 1 -----------------------------------------------------------\n",
      "from sklearn.datasets import load_boston\n",
      "\n",
      "boston = load_boston()\n",
      "n_samples, n_features = boston.data.shape\n",
      "print 'Number of samples = ', n_samples\n",
      "print 'Number of features = ', n_features"
     ],
     "language": "python",
     "metadata": {},
     "outputs": [
      {
       "output_type": "stream",
       "stream": "stdout",
       "text": [
        "Number of samples =  506\n",
        "Number of features =  13\n"
       ]
      }
     ],
     "prompt_number": 3
    },
    {
     "cell_type": "code",
     "collapsed": false,
     "input": [
      "# CRIM, ZN, INDUS, CHAS, NOX are 5 features. Descriptions printed below:\n",
      "print boston.DESCR"
     ],
     "language": "python",
     "metadata": {},
     "outputs": [
      {
       "output_type": "stream",
       "stream": "stdout",
       "text": [
        "Boston House Prices dataset\n",
        "\n",
        "Notes\n",
        "------\n",
        "Data Set Characteristics:  \n",
        "\n",
        "    :Number of Instances: 506 \n",
        "\n",
        "    :Number of Attributes: 13 numeric/categorical predictive\n",
        "    \n",
        "    :Median Value (attribute 14) is usually the target\n",
        "\n",
        "    :Attribute Information (in order):\n",
        "        - CRIM     per capita crime rate by town\n",
        "        - ZN       proportion of residential land zoned for lots over 25,000 sq.ft.\n",
        "        - INDUS    proportion of non-retail business acres per town\n",
        "        - CHAS     Charles River dummy variable (= 1 if tract bounds river; 0 otherwise)\n",
        "        - NOX      nitric oxides concentration (parts per 10 million)\n",
        "        - RM       average number of rooms per dwelling\n",
        "        - AGE      proportion of owner-occupied units built prior to 1940\n",
        "        - DIS      weighted distances to five Boston employment centres\n",
        "        - RAD      index of accessibility to radial highways\n",
        "        - TAX      full-value property-tax rate per $10,000\n",
        "        - PTRATIO  pupil-teacher ratio by town\n",
        "        - B        1000(Bk - 0.63)^2 where Bk is the proportion of blacks by town\n",
        "        - LSTAT    % lower status of the population\n",
        "        - MEDV     Median value of owner-occupied homes in $1000's\n",
        "\n",
        "    :Missing Attribute Values: None\n",
        "\n",
        "    :Creator: Harrison, D. and Rubinfeld, D.L.\n",
        "\n",
        "This is a copy of UCI ML housing dataset.\n",
        "http://archive.ics.uci.edu/ml/datasets/Housing\n",
        "\n",
        "\n",
        "This dataset was taken from the StatLib library which is maintained at Carnegie Mellon University.\n",
        "\n",
        "The Boston house-price data of Harrison, D. and Rubinfeld, D.L. 'Hedonic\n",
        "prices and the demand for clean air', J. Environ. Economics & Management,\n",
        "vol.5, 81-102, 1978.   Used in Belsley, Kuh & Welsch, 'Regression diagnostics\n",
        "...', Wiley, 1980.   N.B. Various transformations are used in the table on\n",
        "pages 244-261 of the latter.\n",
        "\n",
        "The Boston house-price data has been used in many machine learning papers that address regression\n",
        "problems.   \n",
        "     \n",
        "**References**\n",
        "\n",
        "   - Belsley, Kuh & Welsch, 'Regression diagnostics: Identifying Influential Data and Sources of Collinearity', Wiley, 1980. 244-261.\n",
        "   - Quinlan,R. (1993). Combining Instance-Based and Model-Based Learning. In Proceedings on the Tenth International Conference of Machine Learning, 236-243, University of Massachusetts, Amherst. Morgan Kaufmann.\n",
        "   - many more! (see http://archive.ics.uci.edu/ml/datasets/Housing)\n",
        "\n"
       ]
      }
     ],
     "prompt_number": 4
    },
    {
     "cell_type": "code",
     "collapsed": false,
     "input": [
      "# Plot of per capita crime rate per town vs. price of houses\n",
      "\n",
      "# median price\n",
      "x = boston.target\n",
      "\n",
      "# per capita crime rate\n",
      "y = [data[0] for data in boston.data] \n",
      "\n",
      "fig = plt.figure(figsize=(10, 8))\n",
      "ax = fig.add_subplot(1,1,1)\n",
      "ax.scatter(x, y)\n",
      "plt.xlim(0)\n",
      "plt.ylim(0)\n",
      "xlabel(\"Median Value of Owner-Occupied Homes in $1,000's\")\n",
      "ylabel(\"Per Capita Crime Rate\")\n",
      "title(\"Median Home Value vs. Crime Rate\")"
     ],
     "language": "python",
     "metadata": {},
     "outputs": [
      {
       "metadata": {},
       "output_type": "pyout",
       "prompt_number": 5,
       "text": [
        "<matplotlib.text.Text at 0x109534310>"
       ]
      },
      {
       "metadata": {},
       "output_type": "display_data",
       "png": "[encoded data removed]",
       "text": [
        "<matplotlib.figure.Figure at 0x1089a91d0>"
       ]
      }
     ],
     "prompt_number": 5
    },
    {
     "cell_type": "code",
     "collapsed": false,
     "input": [
      "# Exercise 2 -----------------------------------------------------------\n",
      "from sklearn.linear_model import LinearRegression\n",
      "from sklearn.datasets import load_diabetes\n",
      "\n",
      "# load the diabetes dataset\n",
      "diabetes = load_diabetes()\n",
      "\n",
      "# Split the data into training/testing sets\n",
      "diabetes_X_train = diabetes.data[:-20]\n",
      "diabetes_X_test = diabetes.data[-20:]\n",
      "\n",
      "# Split the targets into training/testing sets\n",
      "diabetes_y_train = diabetes.target[:-20]\n",
      "diabetes_y_test = diabetes.target[-20:]\n",
      "\n",
      "# Create linear regression object\n",
      "regr = LinearRegression()\n",
      "\n",
      "# Train the model using the training sets\n",
      "regr.fit(diabetes_X_train, diabetes_y_train)"
     ],
     "language": "python",
     "metadata": {},
     "outputs": [
      {
       "metadata": {},
       "output_type": "pyout",
       "prompt_number": 6,
       "text": [
        "LinearRegression(copy_X=True, fit_intercept=True, normalize=False)"
       ]
      }
     ],
     "prompt_number": 6
    },
    {
     "cell_type": "code",
     "collapsed": false,
     "input": [
      "# Exercise 2.1 ---------------------------------------------------------\n",
      "\n",
      "print(\"Residual sum of squares: %.2f\"\n",
      "      % np.mean((regr.predict(diabetes_X_test) - diabetes_y_test) ** 2))"
     ],
     "language": "python",
     "metadata": {},
     "outputs": [
      {
       "output_type": "stream",
       "stream": "stdout",
       "text": [
        "Residual sum of squares: 2004.57\n"
       ]
      }
     ],
     "prompt_number": 7
    },
    {
     "cell_type": "code",
     "collapsed": false,
     "input": [
      "# Exercise 2.2 ---------------------------------------------------------\n",
      "from sklearn.feature_selection import RFE\n",
      "\n",
      "# Create the RFE object using two features and rank the features for the diabetes datasets\n",
      "rfe = RFE(estimator=regr, n_features_to_select=2, step=1)\n",
      "regr_2_features = rfe.fit(diabetes_X_train,diabetes_y_train)\n",
      "\n",
      "print(\"Residual sum of squares for 2 features: %.2f\"\n",
      "      % np.mean((regr_2_features.predict(diabetes_X_test) - diabetes_y_test) ** 2))\n",
      "\n",
      "# It seems that using fewer features may lead to higher accuracy"
     ],
     "language": "python",
     "metadata": {},
     "outputs": [
      {
       "output_type": "stream",
       "stream": "stdout",
       "text": [
        "Residual sum of squares for 2 features: 1984.51\n"
       ]
      }
     ],
     "prompt_number": 8
    },
    {
     "cell_type": "code",
     "collapsed": false,
     "input": [
      "for i in range (1, 10):\n",
      "    rfe = RFE(estimator=regr, n_features_to_select=i, step=1)\n",
      "    regr_num_features = rfe.fit(diabetes_X_train, diabetes_y_train)\n",
      "    \n",
      "    print(\"Residual sum of squares for %d features: %.2f\"\n",
      "          % (i, np.mean((regr_num_features.predict(diabetes_X_test) - diabetes_y_test) ** 2)))\n",
      "    \n",
      "# 3 features is optimal\n",
      "print(\"\\n3 features offers the minimum mean squared error\")"
     ],
     "language": "python",
     "metadata": {},
     "outputs": [
      {
       "output_type": "stream",
       "stream": "stdout",
       "text": [
        "Residual sum of squares for 1 features: 2548.07\n",
        "Residual sum of squares for 2 features: 1984.51\n",
        "Residual sum of squares for 3 features: 1887.60\n",
        "Residual sum of squares for 4 features: 1948.35\n",
        "Residual sum of squares for 5 features: 2097.22\n",
        "Residual sum of squares for 6 features: 1948.28\n",
        "Residual sum of squares for 7 features: 1961.01\n",
        "Residual sum of squares for 8 features: 1962.54\n",
        "Residual sum of squares for 9 features: 2004.30\n",
        "\n",
        "3 features offers the minimum mean squared error\n"
       ]
      }
     ],
     "prompt_number": 12
    },
    {
     "cell_type": "code",
     "collapsed": false,
     "input": [
      "# Exercise 3.1 ---------------------------------------------------------\n",
      "boston = load_boston()\n",
      "boston_n_samples, boston_n_features = boston.data.shape\n",
      "\n",
      "# Training configurations\n",
      "percent_training = [.2, .4, .6, .8]\n",
      "\n",
      "for training_percent in percent_training:\n",
      "    num_training = boston_n_samples * training_percent\n",
      "    \n",
      "    # Split the data into training/testing sets\n",
      "    boston_X_train = boston.data[-num_training:]\n",
      "    boston_X_test = boston.data[:-num_training]\n",
      "    \n",
      "    # Split the targets into training/testing sets\n",
      "    boston_y_train = boston.target[-num_training:]\n",
      "    boston_y_test = boston.target[:-num_training]\n",
      "    \n",
      "    # Create a linear regression model\n",
      "    regr = LinearRegression()\n",
      "    regr.fit(boston_X_train, boston_y_train)\n",
      "    \n",
      "    # Print mean squared error\n",
      "    print(\"Residual sum of squares for %.2f training and %.2f testing data: %.2f\"\n",
      "          % (training_percent, 1 - training_percent, np.mean((regr.predict(boston_X_test) - boston_y_test) ** 2)))"
     ],
     "language": "python",
     "metadata": {},
     "outputs": [
      {
       "output_type": "stream",
       "stream": "stdout",
       "text": [
        "Residual sum of squares for 0.20 training and 0.80 testing data: 61.15\n",
        "Residual sum of squares for 0.40 training and 0.60 testing data: 49.93\n",
        "Residual sum of squares for 0.60 training and 0.40 testing data: 20.50\n",
        "Residual sum of squares for 0.80 training and 0.20 testing data: 12.48\n"
       ]
      }
     ],
     "prompt_number": 29
    },
    {
     "cell_type": "code",
     "collapsed": false,
     "input": [
      "# Exercise 3.2 ---------------------------------------------------------\n",
      "\n",
      "num_training = .8 * n_samples\n",
      "\n",
      "# Split the data into training/testing sets\n",
      "boston_X_train = boston.data[-num_training:]\n",
      "boston_X_test = boston.data[:-num_training]\n",
      "    \n",
      "# Split the targets into training/testing sets\n",
      "boston_y_train = boston.target[-num_training:]\n",
      "boston_y_test = boston.target[:-num_training]\n",
      "    \n",
      "# Create a linear regression model\n",
      "regr = LinearRegression()\n",
      "regr.fit(boston_X_train, boston_y_train)\n",
      "\n",
      "# Find the best set of features\n",
      "for i in range(1, boston_n_features):\n",
      "    rfe = RFE(estimator=regr, n_features_to_select=i, step=1)\n",
      "    regr_num_features = rfe.fit(boston_X_train, boston_y_train)\n",
      "    \n",
      "    print(\"Residual sum of squares for %d features: %.2f\"\n",
      "          % (i, np.mean((regr_num_features.predict(boston_X_test) - boston_y_test) ** 2)))\n",
      "    print \"rfe.ranking_:\"\n",
      "    print rfe.ranking_\n",
      "    print\n",
      "\n",
      "# The optimal is 3 features\n",
      "print(\"Ideally, we'll train on 3 features: CHAS, NOX, and RM\\n\")\n",
      "\n",
      "# Train with the optimal set of features\n",
      "# Training configurations\n",
      "percent_training = [.2, .4, .6, .8]\n",
      "\n",
      "for training_percent in percent_training:\n",
      "    num_training = boston_n_samples * training_percent\n",
      "    \n",
      "    # Grab three most important features\n",
      "    boston_X_temp = boston.data[:,3:6]\n",
      "    \n",
      "    # Split the data into training/testing sets\n",
      "    boston_X_train = boston_X_temp[-num_training:]\n",
      "    boston_X_test = boston_X_temp[:-num_training]\n",
      "    \n",
      "    # Split the targets into training/testing sets\n",
      "    boston_y_train = boston.target[-num_training:]\n",
      "    boston_y_test = boston.target[:-num_training]\n",
      "    \n",
      "    # Create a linear regression model\n",
      "    regr = LinearRegression()\n",
      "    regr.fit(boston_X_train, boston_y_train)\n",
      "    \n",
      "    # Print mean squared error\n",
      "    print(\"Residual sum of squares for 3 features with %.2f training and %.2f testing data: %.2f\"\n",
      "          % (training_percent, 1 - training_percent, np.mean((regr.predict(boston_X_test) - boston_y_test) ** 2)))\n",
      "    \n",
      "print\n",
      "print \"You see that the mean squared error increases for all splits except for the "
     ],
     "language": "python",
     "metadata": {},
     "outputs": [
      {
       "output_type": "stream",
       "stream": "stdout",
       "text": [
        "Residual sum of squares for 1 features: 45.21\n",
        "rfe.ranking_:\n",
        "[ 8 10  9  3  1  2 13  5  7 11  4 12  6]\n",
        "\n",
        "Residual sum of squares for 2 features: 12.78\n",
        "rfe.ranking_:\n",
        "[ 7  9  8  2  1  1 12  4  6 10  3 11  5]\n",
        "\n",
        "Residual sum of squares for 3 features: 11.78\n",
        "rfe.ranking_:\n",
        "[ 6  8  7  1  1  1 11  3  5  9  2 10  4]\n",
        "\n",
        "Residual sum of squares for 4 features: 12.43\n",
        "rfe.ranking_:\n",
        "[ 5  7  6  1  1  1 10  2  4  8  1  9  3]\n",
        "\n",
        "Residual sum of squares for 5 features: 12.53\n",
        "rfe.ranking_:\n",
        "[4 6 5 1 1 1 9 1 3 7 1 8 2]\n",
        "\n",
        "Residual sum of squares for 6 features: 12.20\n",
        "rfe.ranking_:\n",
        "[3 5 4 1 1 1 8 1 2 6 1 7 1]\n",
        "\n",
        "Residual sum of squares for 7 features: 12.33\n",
        "rfe.ranking_:\n",
        "[2 4 3 1 1 1 7 1 1 5 1 6 1]\n",
        "\n",
        "Residual sum of squares for 8 features: 12.24\n",
        "rfe.ranking_:\n",
        "[1 3 2 1 1 1 6 1 1 4 1 5 1]\n",
        "\n",
        "Residual sum of squares for 9 features: 12.01\n",
        "rfe.ranking_:\n",
        "[1 2 1 1 1 1 5 1 1 3 1 4 1]\n",
        "\n",
        "Residual sum of squares for 10 features: 12.80\n",
        "rfe.ranking_:\n",
        "[1 1 1 1 1 1 4 1 1 2 1 3 1]\n",
        "\n",
        "Residual sum of squares for 11 features: 12.52\n",
        "rfe.ranking_:\n",
        "[1 1 1 1 1 1 3 1 1 1 1 2 1]\n",
        "\n",
        "Residual sum of squares for 12 features: 12.38\n",
        "rfe.ranking_:\n",
        "[1 1 1 1 1 1 2 1 1 1 1 1 1]\n",
        "\n",
        "Ideally, we'll train on 3 features: CHAS, NOX, and RM\n",
        "Residual sum of squares for 3 features with 0.20 training and 0.80 testing data: 67.67\n",
        "Residual sum of squares for 3 features with 0.40 training and 0.60 testing data: 80.25\n",
        "Residual sum of squares for 3 features with 0.60 training and 0.40 testing data: 25.25\n",
        "Residual sum of squares for 3 features with 0.80 training and 0.20 testing data: 11.78\n"
       ]
      }
     ],
     "prompt_number": 44
    },
    {
     "cell_type": "code",
     "collapsed": false,
     "input": [],
     "language": "python",
     "metadata": {},
     "outputs": []
    },
    {
     "cell_type": "code",
     "collapsed": false,
     "input": [],
     "language": "python",
     "metadata": {},
     "outputs": []
    }
   ],
   "metadata": {}
  }
 ]
}