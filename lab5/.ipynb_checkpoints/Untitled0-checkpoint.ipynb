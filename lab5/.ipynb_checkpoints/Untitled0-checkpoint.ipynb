{
 "metadata": {
  "name": "",
  "signature": "sha256:536e938d684697e55400b1187c29ddf9713399f22df961d3a4832432353d2391"
 },
 "nbformat": 3,
 "nbformat_minor": 0,
 "worksheets": []
}